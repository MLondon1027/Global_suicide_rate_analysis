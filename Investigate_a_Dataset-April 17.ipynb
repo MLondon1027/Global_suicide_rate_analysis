{
 "cells": [
  {
   "cell_type": "markdown",
   "metadata": {},
   "source": [
    "\n",
    "# Project: Do demographic or economic factors affect male and/or female suicide rates?\n",
    "\n",
    "## Table of Contents\n",
    "<ul>\n",
    "<li><a href=\"#intro\">Introduction</a></li>\n",
    "<li><a href=\"#wrangling\">Initial Data Wrangling</a></li>\n",
    "<li><a href=\"#gdp\">GDP vs. Male and Female Suicide Rates</a></li>\n",
    "<li><a href=\"#gdpgrowth\">GDP Growth Rate vs. Male and Female Suicide Rates</a></li>\n",
    "<li><a href=\"#age\">Median Age vs. Male and Female Suicide Rates</a></li>\n",
    "<li><a href=\"#conclusions\">Conclusions</a></li>\n",
    "</ul>"
   ]
  },
  {
   "cell_type": "markdown",
   "metadata": {},
   "source": [
    "<a id='intro'></a>\n",
    "## Introduction\n",
    "\n",
    "The purpose of this analysis is to study the male and female suicide rates compared to actual GDP, GDP annual growth rate, and average median age and determine any correlation.\n",
    "\n",
    "Dependent variables: male suicide rate, female suicide rate\n",
    "\n",
    "Independent variables: actual GDP, GDP growth rate, median age\n",
    "\n",
    "Questions:\n",
    "\n",
    "1) Do either male or female suicide rates correlate with GDP? Do countries with higher GDPs tend to have higher or lower suicide rates? \n",
    "\n",
    "2) Do changes in GDP correlate with either male or female suicide rates? \n",
    "\n",
    "3) Is there any correlation between median age and male and/or female suicide rates? "
   ]
  },
  {
   "cell_type": "code",
   "execution_count": 485,
   "metadata": {},
   "outputs": [],
   "source": [
    "#import modules\n",
    "import pandas as pd\n",
    "import numpy as np\n",
    "import matplotlib.pyplot as plt\n",
    "import seaborn as sns\n",
    "% matplotlib inline\n"
   ]
  },
  {
   "cell_type": "markdown",
   "metadata": {},
   "source": [
    "<a id='wrangling'></a>\n",
    "## Initial Data Wrangling\n",
    "\n",
    "### General Properties"
   ]
  },
  {
   "cell_type": "code",
   "execution_count": 486,
   "metadata": {},
   "outputs": [],
   "source": [
    "#Load datasets\n",
    "df_suicide_male = pd.read_csv('Suicide male indicator file UL 20100916.csv', index_col=[0])\n",
    "df_suicide_female = pd.read_csv('Suicide female indicator file UL 20100916.csv', index_col=[0])\n",
    "df_gdp = pd.read_excel('GDPpercapitaconstant2000US.xlsx')\n",
    "df_median_age = pd.read_csv('median_age.csv', index_col='Median age')\n",
    "df_gdp_growth = pd.read_csv('gdp_annual_growth.csv', index_col=[0])\n",
    "\n",
    "\n"
   ]
  },
  {
   "cell_type": "code",
   "execution_count": 487,
   "metadata": {},
   "outputs": [
    {
     "data": {
      "text/html": [
       "<div>\n",
       "<style scoped>\n",
       "    .dataframe tbody tr th:only-of-type {\n",
       "        vertical-align: middle;\n",
       "    }\n",
       "\n",
       "    .dataframe tbody tr th {\n",
       "        vertical-align: top;\n",
       "    }\n",
       "\n",
       "    .dataframe thead th {\n",
       "        text-align: right;\n",
       "    }\n",
       "</style>\n",
       "<table border=\"1\" class=\"dataframe\">\n",
       "  <thead>\n",
       "    <tr style=\"text-align: right;\">\n",
       "      <th></th>\n",
       "      <th>Income per person (fixed 2000 US$)</th>\n",
       "      <th>1960</th>\n",
       "      <th>1961</th>\n",
       "      <th>1962</th>\n",
       "      <th>1963</th>\n",
       "      <th>1964</th>\n",
       "      <th>1965</th>\n",
       "      <th>1966</th>\n",
       "      <th>1967</th>\n",
       "      <th>1968</th>\n",
       "      <th>...</th>\n",
       "      <th>2002</th>\n",
       "      <th>2003</th>\n",
       "      <th>2004</th>\n",
       "      <th>2005</th>\n",
       "      <th>2006</th>\n",
       "      <th>2007</th>\n",
       "      <th>2008</th>\n",
       "      <th>2009</th>\n",
       "      <th>2010</th>\n",
       "      <th>2011</th>\n",
       "    </tr>\n",
       "  </thead>\n",
       "  <tbody>\n",
       "    <tr>\n",
       "      <th>0</th>\n",
       "      <td>Abkhazia</td>\n",
       "      <td>NaN</td>\n",
       "      <td>NaN</td>\n",
       "      <td>NaN</td>\n",
       "      <td>NaN</td>\n",
       "      <td>NaN</td>\n",
       "      <td>NaN</td>\n",
       "      <td>NaN</td>\n",
       "      <td>NaN</td>\n",
       "      <td>NaN</td>\n",
       "      <td>...</td>\n",
       "      <td>NaN</td>\n",
       "      <td>NaN</td>\n",
       "      <td>NaN</td>\n",
       "      <td>NaN</td>\n",
       "      <td>NaN</td>\n",
       "      <td>NaN</td>\n",
       "      <td>NaN</td>\n",
       "      <td>NaN</td>\n",
       "      <td>NaN</td>\n",
       "      <td>NaN</td>\n",
       "    </tr>\n",
       "    <tr>\n",
       "      <th>1</th>\n",
       "      <td>Afghanistan</td>\n",
       "      <td>NaN</td>\n",
       "      <td>NaN</td>\n",
       "      <td>NaN</td>\n",
       "      <td>NaN</td>\n",
       "      <td>NaN</td>\n",
       "      <td>NaN</td>\n",
       "      <td>NaN</td>\n",
       "      <td>NaN</td>\n",
       "      <td>NaN</td>\n",
       "      <td>...</td>\n",
       "      <td>NaN</td>\n",
       "      <td>NaN</td>\n",
       "      <td>NaN</td>\n",
       "      <td>NaN</td>\n",
       "      <td>NaN</td>\n",
       "      <td>NaN</td>\n",
       "      <td>NaN</td>\n",
       "      <td>NaN</td>\n",
       "      <td>NaN</td>\n",
       "      <td>NaN</td>\n",
       "    </tr>\n",
       "    <tr>\n",
       "      <th>2</th>\n",
       "      <td>Akrotiri and Dhekelia</td>\n",
       "      <td>NaN</td>\n",
       "      <td>NaN</td>\n",
       "      <td>NaN</td>\n",
       "      <td>NaN</td>\n",
       "      <td>NaN</td>\n",
       "      <td>NaN</td>\n",
       "      <td>NaN</td>\n",
       "      <td>NaN</td>\n",
       "      <td>NaN</td>\n",
       "      <td>...</td>\n",
       "      <td>NaN</td>\n",
       "      <td>NaN</td>\n",
       "      <td>NaN</td>\n",
       "      <td>NaN</td>\n",
       "      <td>NaN</td>\n",
       "      <td>NaN</td>\n",
       "      <td>NaN</td>\n",
       "      <td>NaN</td>\n",
       "      <td>NaN</td>\n",
       "      <td>NaN</td>\n",
       "    </tr>\n",
       "    <tr>\n",
       "      <th>3</th>\n",
       "      <td>Albania</td>\n",
       "      <td>NaN</td>\n",
       "      <td>NaN</td>\n",
       "      <td>NaN</td>\n",
       "      <td>NaN</td>\n",
       "      <td>NaN</td>\n",
       "      <td>NaN</td>\n",
       "      <td>NaN</td>\n",
       "      <td>NaN</td>\n",
       "      <td>NaN</td>\n",
       "      <td>...</td>\n",
       "      <td>1313.722725</td>\n",
       "      <td>1381.040832</td>\n",
       "      <td>1454.022854</td>\n",
       "      <td>1525.723589</td>\n",
       "      <td>1594.495067</td>\n",
       "      <td>1681.613910</td>\n",
       "      <td>1804.419415</td>\n",
       "      <td>1857.352947</td>\n",
       "      <td>1915.424459</td>\n",
       "      <td>1965.707230</td>\n",
       "    </tr>\n",
       "    <tr>\n",
       "      <th>4</th>\n",
       "      <td>Algeria</td>\n",
       "      <td>1280.384828</td>\n",
       "      <td>1085.414612</td>\n",
       "      <td>855.947986</td>\n",
       "      <td>1128.41578</td>\n",
       "      <td>1170.323896</td>\n",
       "      <td>1215.015783</td>\n",
       "      <td>1127.614288</td>\n",
       "      <td>1200.558225</td>\n",
       "      <td>1291.863983</td>\n",
       "      <td>...</td>\n",
       "      <td>1871.921986</td>\n",
       "      <td>1971.512803</td>\n",
       "      <td>2043.135713</td>\n",
       "      <td>2115.186028</td>\n",
       "      <td>2124.957754</td>\n",
       "      <td>2155.485231</td>\n",
       "      <td>2173.787903</td>\n",
       "      <td>2192.703976</td>\n",
       "      <td>2231.980246</td>\n",
       "      <td>2255.225482</td>\n",
       "    </tr>\n",
       "  </tbody>\n",
       "</table>\n",
       "<p>5 rows × 53 columns</p>\n",
       "</div>"
      ],
      "text/plain": [
       "  Income per person (fixed 2000 US$)         1960         1961        1962  \\\n",
       "0                           Abkhazia          NaN          NaN         NaN   \n",
       "1                        Afghanistan          NaN          NaN         NaN   \n",
       "2              Akrotiri and Dhekelia          NaN          NaN         NaN   \n",
       "3                            Albania          NaN          NaN         NaN   \n",
       "4                            Algeria  1280.384828  1085.414612  855.947986   \n",
       "\n",
       "         1963         1964         1965         1966         1967  \\\n",
       "0         NaN          NaN          NaN          NaN          NaN   \n",
       "1         NaN          NaN          NaN          NaN          NaN   \n",
       "2         NaN          NaN          NaN          NaN          NaN   \n",
       "3         NaN          NaN          NaN          NaN          NaN   \n",
       "4  1128.41578  1170.323896  1215.015783  1127.614288  1200.558225   \n",
       "\n",
       "          1968     ...              2002         2003         2004  \\\n",
       "0          NaN     ...               NaN          NaN          NaN   \n",
       "1          NaN     ...               NaN          NaN          NaN   \n",
       "2          NaN     ...               NaN          NaN          NaN   \n",
       "3          NaN     ...       1313.722725  1381.040832  1454.022854   \n",
       "4  1291.863983     ...       1871.921986  1971.512803  2043.135713   \n",
       "\n",
       "          2005         2006         2007         2008         2009  \\\n",
       "0          NaN          NaN          NaN          NaN          NaN   \n",
       "1          NaN          NaN          NaN          NaN          NaN   \n",
       "2          NaN          NaN          NaN          NaN          NaN   \n",
       "3  1525.723589  1594.495067  1681.613910  1804.419415  1857.352947   \n",
       "4  2115.186028  2124.957754  2155.485231  2173.787903  2192.703976   \n",
       "\n",
       "          2010         2011  \n",
       "0          NaN          NaN  \n",
       "1          NaN          NaN  \n",
       "2          NaN          NaN  \n",
       "3  1915.424459  1965.707230  \n",
       "4  2231.980246  2255.225482  \n",
       "\n",
       "[5 rows x 53 columns]"
      ]
     },
     "execution_count": 487,
     "metadata": {},
     "output_type": "execute_result"
    }
   ],
   "source": [
    "#Understand content of datasets\n",
    "df_suicide_male.head()\n",
    "df_suicide_female.head()\n",
    "df_gdp_growth.head()\n",
    "df_median_age.head()\n",
    "df_gdp.head()"
   ]
  },
  {
   "cell_type": "code",
   "execution_count": 488,
   "metadata": {},
   "outputs": [],
   "source": [
    "#rename index on df_gdp_growth\n",
    "df_gdp_growth.index.rename('country', inplace=True) "
   ]
  },
  {
   "cell_type": "code",
   "execution_count": 489,
   "metadata": {},
   "outputs": [],
   "source": [
    "#rename index on suicide csvs\n",
    "df_suicide_male.index.rename('country', inplace=True)\n",
    "df_suicide_female.index.rename('country', inplace=True)"
   ]
  },
  {
   "cell_type": "code",
   "execution_count": 490,
   "metadata": {},
   "outputs": [],
   "source": [
    "#set index on df_gdp\n",
    "df_gdp.set_index('Income per person (fixed 2000 US$)', inplace=True)"
   ]
  },
  {
   "cell_type": "code",
   "execution_count": 491,
   "metadata": {},
   "outputs": [],
   "source": [
    "#rename index on df_gdp\n",
    "df_gdp.index.rename('country', inplace=True)"
   ]
  },
  {
   "cell_type": "markdown",
   "metadata": {},
   "source": [
    "<a id='gdp'></a>\n",
    "# How does actual GDP correlate with male and female suicide rates?\n"
   ]
  },
  {
   "cell_type": "markdown",
   "metadata": {},
   "source": [
    "### Create and clean data sets  (2004 GDP, 2004 Male Suicide Rates, 2004 Female Suicide Rates)"
   ]
  },
  {
   "cell_type": "code",
   "execution_count": 492,
   "metadata": {},
   "outputs": [],
   "source": [
    "df_gdp_2004 = df_gdp[['2004']] #I chose to only use 2004 data because it has significantly more data points"
   ]
  },
  {
   "cell_type": "code",
   "execution_count": 493,
   "metadata": {},
   "outputs": [
    {
     "name": "stderr",
     "output_type": "stream",
     "text": [
      "/Applications/anaconda3/lib/python3.6/site-packages/ipykernel/__main__.py:1: SettingWithCopyWarning: \n",
      "A value is trying to be set on a copy of a slice from a DataFrame\n",
      "\n",
      "See the caveats in the documentation: http://pandas.pydata.org/pandas-docs/stable/indexing.html#indexing-view-versus-copy\n",
      "  if __name__ == '__main__':\n"
     ]
    }
   ],
   "source": [
    "df_gdp_2004.dropna(how='all', axis=0, inplace=True) #drop countries with NaN values"
   ]
  },
  {
   "cell_type": "code",
   "execution_count": 494,
   "metadata": {},
   "outputs": [],
   "source": [
    "df_suicide_male_2004 = df_suicide_male[['2004']] #Use just the 2004 data"
   ]
  },
  {
   "cell_type": "code",
   "execution_count": 495,
   "metadata": {},
   "outputs": [
    {
     "name": "stderr",
     "output_type": "stream",
     "text": [
      "/Applications/anaconda3/lib/python3.6/site-packages/ipykernel/__main__.py:1: SettingWithCopyWarning: \n",
      "A value is trying to be set on a copy of a slice from a DataFrame\n",
      "\n",
      "See the caveats in the documentation: http://pandas.pydata.org/pandas-docs/stable/indexing.html#indexing-view-versus-copy\n",
      "  if __name__ == '__main__':\n"
     ]
    }
   ],
   "source": [
    "df_suicide_male_2004.dropna(how='all', axis=0, inplace=True) #drop countries with NaN values"
   ]
  },
  {
   "cell_type": "code",
   "execution_count": 496,
   "metadata": {},
   "outputs": [],
   "source": [
    "df_suicide_female_2004 = df_suicide_female[['2004']] #Use just the 2004 data"
   ]
  },
  {
   "cell_type": "code",
   "execution_count": 497,
   "metadata": {},
   "outputs": [
    {
     "name": "stderr",
     "output_type": "stream",
     "text": [
      "/Applications/anaconda3/lib/python3.6/site-packages/ipykernel/__main__.py:1: SettingWithCopyWarning: \n",
      "A value is trying to be set on a copy of a slice from a DataFrame\n",
      "\n",
      "See the caveats in the documentation: http://pandas.pydata.org/pandas-docs/stable/indexing.html#indexing-view-versus-copy\n",
      "  if __name__ == '__main__':\n"
     ]
    }
   ],
   "source": [
    "df_suicide_female_2004.dropna(how='all', axis=0, inplace=True) #drop countries with NaN values"
   ]
  },
  {
   "cell_type": "code",
   "execution_count": 498,
   "metadata": {},
   "outputs": [
    {
     "name": "stderr",
     "output_type": "stream",
     "text": [
      "/Applications/anaconda3/lib/python3.6/site-packages/pandas/core/frame.py:3027: SettingWithCopyWarning: \n",
      "A value is trying to be set on a copy of a slice from a DataFrame\n",
      "\n",
      "See the caveats in the documentation: http://pandas.pydata.org/pandas-docs/stable/indexing.html#indexing-view-versus-copy\n",
      "  return super(DataFrame, self).rename(**kwargs)\n"
     ]
    }
   ],
   "source": [
    "#Add labels to 2004 columns\n",
    "df_gdp_2004.rename(columns=lambda x: x[:4] + \"_gdp\", inplace=True)"
   ]
  },
  {
   "cell_type": "code",
   "execution_count": 499,
   "metadata": {},
   "outputs": [
    {
     "name": "stderr",
     "output_type": "stream",
     "text": [
      "/Applications/anaconda3/lib/python3.6/site-packages/pandas/core/frame.py:3027: SettingWithCopyWarning: \n",
      "A value is trying to be set on a copy of a slice from a DataFrame\n",
      "\n",
      "See the caveats in the documentation: http://pandas.pydata.org/pandas-docs/stable/indexing.html#indexing-view-versus-copy\n",
      "  return super(DataFrame, self).rename(**kwargs)\n"
     ]
    }
   ],
   "source": [
    "df_suicide_male_2004.rename(columns=lambda x: x[:4] + \"_suicide_male\", inplace=True)"
   ]
  },
  {
   "cell_type": "code",
   "execution_count": 500,
   "metadata": {},
   "outputs": [
    {
     "name": "stderr",
     "output_type": "stream",
     "text": [
      "/Applications/anaconda3/lib/python3.6/site-packages/pandas/core/frame.py:3027: SettingWithCopyWarning: \n",
      "A value is trying to be set on a copy of a slice from a DataFrame\n",
      "\n",
      "See the caveats in the documentation: http://pandas.pydata.org/pandas-docs/stable/indexing.html#indexing-view-versus-copy\n",
      "  return super(DataFrame, self).rename(**kwargs)\n"
     ]
    }
   ],
   "source": [
    "df_suicide_female_2004.rename(columns=lambda x: x[:4] + \"_suicide_female\", inplace=True)"
   ]
  },
  {
   "cell_type": "code",
   "execution_count": 501,
   "metadata": {},
   "outputs": [],
   "source": [
    "#equalize indices"
   ]
  },
  {
   "cell_type": "code",
   "execution_count": 502,
   "metadata": {},
   "outputs": [],
   "source": [
    "df_gdp_2004 = df_gdp_2004[df_gdp_2004.index.isin(df_suicide_male_2004.index)]\n"
   ]
  },
  {
   "cell_type": "code",
   "execution_count": 503,
   "metadata": {},
   "outputs": [],
   "source": [
    "df_suicide_male_2004 = df_suicide_male_2004[df_suicide_male_2004.index.isin(df_gdp_2004.index)]"
   ]
  },
  {
   "cell_type": "code",
   "execution_count": 504,
   "metadata": {},
   "outputs": [],
   "source": [
    "df_suicide_female_2004 = df_suicide_female_2004[df_suicide_female_2004.index.isin(df_gdp_2004.index)]"
   ]
  },
  {
   "cell_type": "code",
   "execution_count": 505,
   "metadata": {},
   "outputs": [],
   "source": [
    "df_gdp_2004 = df_gdp_2004[df_gdp_2004.index.isin(df_suicide_female_2004.index)]"
   ]
  },
  {
   "cell_type": "code",
   "execution_count": 506,
   "metadata": {},
   "outputs": [],
   "source": [
    "df_suicide_male_2004 = df_suicide_male_2004[df_suicide_male_2004.index.isin(df_suicide_female_2004.index)]"
   ]
  },
  {
   "cell_type": "code",
   "execution_count": 507,
   "metadata": {},
   "outputs": [
    {
     "data": {
      "text/plain": [
       "array([ True,  True,  True,  True,  True,  True,  True,  True,  True,\n",
       "        True,  True,  True,  True,  True,  True,  True,  True,  True,\n",
       "        True,  True,  True,  True,  True,  True,  True,  True,  True,\n",
       "        True,  True,  True,  True,  True,  True,  True,  True,  True,\n",
       "        True,  True,  True,  True,  True,  True,  True,  True,  True,\n",
       "        True,  True,  True,  True,  True,  True,  True,  True,  True,\n",
       "        True,  True,  True,  True,  True,  True,  True,  True,  True,\n",
       "        True,  True,  True,  True,  True,  True,  True,  True,  True,\n",
       "        True,  True,  True,  True,  True,  True,  True,  True,  True,\n",
       "        True,  True,  True,  True,  True,  True,  True,  True,  True,\n",
       "        True,  True,  True,  True,  True,  True,  True,  True,  True,\n",
       "        True,  True,  True,  True,  True,  True,  True,  True,  True,\n",
       "        True,  True,  True,  True,  True,  True,  True,  True,  True,\n",
       "        True,  True,  True,  True,  True,  True,  True,  True,  True,\n",
       "        True,  True,  True,  True,  True,  True,  True,  True,  True,\n",
       "        True,  True,  True,  True,  True,  True,  True,  True,  True,\n",
       "        True,  True,  True,  True,  True,  True,  True,  True,  True,\n",
       "        True,  True,  True,  True,  True,  True,  True,  True,  True,\n",
       "        True,  True,  True,  True,  True,  True,  True,  True,  True])"
      ]
     },
     "execution_count": 507,
     "metadata": {},
     "output_type": "execute_result"
    }
   ],
   "source": [
    "df_gdp_2004.index == df_suicide_male_2004.index #compare indices to be sure they are the same"
   ]
  },
  {
   "cell_type": "code",
   "execution_count": 508,
   "metadata": {},
   "outputs": [
    {
     "data": {
      "text/plain": [
       "array([ True,  True,  True,  True,  True,  True,  True,  True,  True,\n",
       "        True,  True,  True,  True,  True,  True,  True,  True,  True,\n",
       "        True,  True,  True,  True,  True,  True,  True,  True,  True,\n",
       "        True,  True,  True,  True,  True,  True,  True,  True,  True,\n",
       "        True,  True,  True,  True,  True,  True,  True,  True,  True,\n",
       "        True,  True,  True,  True,  True,  True,  True,  True,  True,\n",
       "        True,  True,  True,  True,  True,  True,  True,  True,  True,\n",
       "        True,  True,  True,  True,  True,  True,  True,  True,  True,\n",
       "        True,  True,  True,  True,  True,  True,  True,  True,  True,\n",
       "        True,  True,  True,  True,  True,  True,  True,  True,  True,\n",
       "        True,  True,  True,  True,  True,  True,  True,  True,  True,\n",
       "        True,  True,  True,  True,  True,  True,  True,  True,  True,\n",
       "        True,  True,  True,  True,  True,  True,  True,  True,  True,\n",
       "        True,  True,  True,  True,  True,  True,  True,  True,  True,\n",
       "        True,  True,  True,  True,  True,  True,  True,  True,  True,\n",
       "        True,  True,  True,  True,  True,  True,  True,  True,  True,\n",
       "        True,  True,  True,  True,  True,  True,  True,  True,  True,\n",
       "        True,  True,  True,  True,  True,  True,  True,  True,  True,\n",
       "        True,  True,  True,  True,  True,  True,  True,  True,  True])"
      ]
     },
     "execution_count": 508,
     "metadata": {},
     "output_type": "execute_result"
    }
   ],
   "source": [
    "df_suicide_female_2004.index == df_gdp_2004.index #make sure indices in all three datasets are identical"
   ]
  },
  {
   "cell_type": "code",
   "execution_count": 509,
   "metadata": {},
   "outputs": [],
   "source": [
    "#Combine datasets\n",
    "combined = pd.concat([df_gdp_2004, df_suicide_male_2004, df_suicide_female_2004], axis=1, join='inner')"
   ]
  },
  {
   "cell_type": "markdown",
   "metadata": {},
   "source": [
    "### Visualize data sets"
   ]
  },
  {
   "cell_type": "markdown",
   "metadata": {},
   "source": [
    "Compare suicide rates by actual GDP"
   ]
  },
  {
   "cell_type": "code",
   "execution_count": 510,
   "metadata": {},
   "outputs": [
    {
     "data": {
      "image/png": "[encoded data removed]",
      "text/plain": [
       "<Figure size 432x288 with 1 Axes>"
      ]
     },
     "metadata": {},
     "output_type": "display_data"
    }
   ],
   "source": [
    "#Visualize 2004 GDP vs. 2004 Female Suicide Rates\n",
    "\n",
    "female_gdp_plot = plt.plot(combined['2004_gdp'], combined['2004_suicide_female'], 'mo', markersize=4);\n",
    "plt.title('Female Suicide Rate vs. GDP, 2004', fontsize=18)\n",
    "plt.xlabel('2004 GDP', fontsize=12)\n",
    "plt.ylabel('2004 Suicide Rate (per 100,000)', fontsize=12);\n",
    "\n"
   ]
  },
  {
   "cell_type": "code",
   "execution_count": 511,
   "metadata": {},
   "outputs": [
    {
     "data": {
      "image/png": "[encoded data removed]",
      "text/plain": [
       "<Figure size 432x288 with 1 Axes>"
      ]
     },
     "metadata": {},
     "output_type": "display_data"
    }
   ],
   "source": [
    "#Visualize 2004 GDP vs. 2004 Male Suicide Rates\n",
    "\n",
    "male_gdp_plot = plt.plot(combined['2004_gdp'], combined['2004_suicide_male'], 'bo', markersize=4);\n",
    "plt.title('Male Suicide Rate vs. GDP, 2004', fontsize=18)\n",
    "plt.xlabel('2004 GDP',fontsize=14)\n",
    "plt.ylabel('2004 Suicide Rate (per 100,000)', fontsize=12);\n",
    "\n"
   ]
  },
  {
   "cell_type": "code",
   "execution_count": 512,
   "metadata": {},
   "outputs": [
    {
     "data": {
      "text/html": [
       "<div>\n",
       "<style scoped>\n",
       "    .dataframe tbody tr th:only-of-type {\n",
       "        vertical-align: middle;\n",
       "    }\n",
       "\n",
       "    .dataframe tbody tr th {\n",
       "        vertical-align: top;\n",
       "    }\n",
       "\n",
       "    .dataframe thead th {\n",
       "        text-align: right;\n",
       "    }\n",
       "</style>\n",
       "<table border=\"1\" class=\"dataframe\">\n",
       "  <thead>\n",
       "    <tr style=\"text-align: right;\">\n",
       "      <th></th>\n",
       "      <th>2004_gdp</th>\n",
       "      <th>2004_suicide_male</th>\n",
       "      <th>2004_suicide_female</th>\n",
       "    </tr>\n",
       "  </thead>\n",
       "  <tbody>\n",
       "    <tr>\n",
       "      <th>2004_gdp</th>\n",
       "      <td>1.000000</td>\n",
       "      <td>0.004044</td>\n",
       "      <td>-0.113976</td>\n",
       "    </tr>\n",
       "    <tr>\n",
       "      <th>2004_suicide_male</th>\n",
       "      <td>0.004044</td>\n",
       "      <td>1.000000</td>\n",
       "      <td>0.597675</td>\n",
       "    </tr>\n",
       "    <tr>\n",
       "      <th>2004_suicide_female</th>\n",
       "      <td>-0.113976</td>\n",
       "      <td>0.597675</td>\n",
       "      <td>1.000000</td>\n",
       "    </tr>\n",
       "  </tbody>\n",
       "</table>\n",
       "</div>"
      ],
      "text/plain": [
       "                     2004_gdp  2004_suicide_male  2004_suicide_female\n",
       "2004_gdp             1.000000           0.004044            -0.113976\n",
       "2004_suicide_male    0.004044           1.000000             0.597675\n",
       "2004_suicide_female -0.113976           0.597675             1.000000"
      ]
     },
     "execution_count": 512,
     "metadata": {},
     "output_type": "execute_result"
    }
   ],
   "source": [
    "#Correlation 0f 2004 GDP and 2004 Male & Female Suicide Rates\n",
    "\n",
    "combined.corr()"
   ]
  },
  {
   "cell_type": "markdown",
   "metadata": {},
   "source": [
    "The correlation coefficient between the 2004 GDP and 2004 male suicide rate is almost zero. There is also a very low negative correlation coefficient (-0.11) between 2004 GDP and 2004 female suicide rates. \n",
    "\n",
    "With  a correlation coefficient of 0.59, there is a moderate positive correlation between male and female suicide rates."
   ]
  },
  {
   "cell_type": "markdown",
   "metadata": {},
   "source": [
    "#### Compare suicide by GDP quartiles"
   ]
  },
  {
   "cell_type": "code",
   "execution_count": 513,
   "metadata": {},
   "outputs": [
    {
     "data": {
      "text/plain": [
       "count      171.000000\n",
       "mean      7443.649888\n",
       "std      11848.095849\n",
       "min         88.243053\n",
       "25%        599.853707\n",
       "50%       2043.135713\n",
       "75%       6711.146187\n",
       "max      80255.753889\n",
       "Name: 2004_gdp, dtype: float64"
      ]
     },
     "execution_count": 513,
     "metadata": {},
     "output_type": "execute_result"
    }
   ],
   "source": [
    "combined['2004_gdp'].describe() #find the quartiles"
   ]
  },
  {
   "cell_type": "code",
   "execution_count": 514,
   "metadata": {},
   "outputs": [],
   "source": [
    "bin_edges = [88.243053, 599.853707, 2043.135713, 6711.146187, 80255.753889] #use quartiles as bin edges"
   ]
  },
  {
   "cell_type": "code",
   "execution_count": 515,
   "metadata": {},
   "outputs": [],
   "source": [
    "bin_names = ['low', 'medium low', 'medium high', 'high'] #label bin names"
   ]
  },
  {
   "cell_type": "markdown",
   "metadata": {},
   "source": [
    "##### Male Suicide Rate by 2004 GDP Quartiles"
   ]
  },
  {
   "cell_type": "code",
   "execution_count": 516,
   "metadata": {},
   "outputs": [],
   "source": [
    "combined['male_suicide_gdp'] = pd.cut(combined['2004_gdp'], bin_edges, labels=bin_names) #create new column based on bin edges and bin names"
   ]
  },
  {
   "cell_type": "code",
   "execution_count": 517,
   "metadata": {},
   "outputs": [
    {
     "data": {
      "text/plain": [
       "male_suicide_gdp\n",
       "low            13.522622\n",
       "medium low     14.250281\n",
       "medium high    16.306225\n",
       "high           13.311920\n",
       "Name: 2004_suicide_male, dtype: float64"
      ]
     },
     "execution_count": 517,
     "metadata": {},
     "output_type": "execute_result"
    }
   ],
   "source": [
    "combined.groupby('male_suicide_gdp')['2004_suicide_male'].mean() #calculate mean suicide rate for each bin"
   ]
  },
  {
   "cell_type": "code",
   "execution_count": 518,
   "metadata": {},
   "outputs": [],
   "source": [
    "male_suicide_gdp_mean = combined.groupby('male_suicide_gdp')['2004_suicide_male'].mean() #create new dataset with the above calculations"
   ]
  },
  {
   "cell_type": "code",
   "execution_count": 519,
   "metadata": {},
   "outputs": [],
   "source": [
    "locations = [1, 2, 3, 4]"
   ]
  },
  {
   "cell_type": "code",
   "execution_count": 527,
   "metadata": {},
   "outputs": [
    {
     "data": {
      "image/png": "[encoded data removed]",
      "text/plain": [
       "<Figure size 432x288 with 1 Axes>"
      ]
     },
     "metadata": {},
     "output_type": "display_data"
    }
   ],
   "source": [
    "plt.bar(locations, male_suicide_gdp_mean, tick_label=bin_names, color='blue')\n",
    "plt.title('2004 Mean Male Suicide Rate by GDP Quartile', fontsize=16)\n",
    "plt.xlabel('GDP Quartile', fontsize=12)\n",
    "plt.ylabel('Mean Suicide Rate (per 100,000)', fontsize=12);\n",
    "\n",
    "#create a histogram showing mean suicide rate per GDP quartile"
   ]
  },
  {
   "cell_type": "markdown",
   "metadata": {},
   "source": [
    "Male suicide rates do not seem to correlate with which GDP quartile a country is in. "
   ]
  },
  {
   "cell_type": "markdown",
   "metadata": {},
   "source": [
    "##### Female Suicide Rate by 2004 GDP Quartiles"
   ]
  },
  {
   "cell_type": "code",
   "execution_count": 521,
   "metadata": {},
   "outputs": [],
   "source": [
    "combined['female_suicide_gdp'] = pd.cut(combined['2004_gdp'], bin_edges, labels=bin_names) #create new column based on bin edges and bin names"
   ]
  },
  {
   "cell_type": "code",
   "execution_count": 522,
   "metadata": {},
   "outputs": [
    {
     "data": {
      "text/plain": [
       "female_suicide_gdp\n",
       "low            6.648659\n",
       "medium low     5.660569\n",
       "medium high    5.024216\n",
       "high           4.030081\n",
       "Name: 2004_suicide_female, dtype: float64"
      ]
     },
     "execution_count": 522,
     "metadata": {},
     "output_type": "execute_result"
    }
   ],
   "source": [
    "combined.groupby('female_suicide_gdp')['2004_suicide_female'].mean() #calculate the mean suicide rate for each bin"
   ]
  },
  {
   "cell_type": "code",
   "execution_count": 523,
   "metadata": {},
   "outputs": [],
   "source": [
    "female_suicide_gdp_mean = combined.groupby('female_suicide_gdp')['2004_suicide_female'].mean() #create new data set with the above calculations"
   ]
  },
  {
   "cell_type": "code",
   "execution_count": 528,
   "metadata": {},
   "outputs": [
    {
     "data": {
      "image/png": "[encoded data removed]",
      "text/plain": [
       "<Figure size 432x288 with 1 Axes>"
      ]
     },
     "metadata": {},
     "output_type": "display_data"
    }
   ],
   "source": [
    "plt.bar(locations, female_suicide_gdp_mean, tick_label=bin_names, color='m')\n",
    "plt.title('2004 Mean Female Suicide Rate by GDP Quartile', fontsize=16)\n",
    "plt.xlabel('GDP Quartile', fontsize=12)\n",
    "plt.ylabel('Mean Suicide Rate (per 100,000)', fontsize=12);\n",
    "\n",
    "#creat a histogram showing mean suicide rate per gdp quartile"
   ]
  },
  {
   "cell_type": "markdown",
   "metadata": {},
   "source": [
    "It appears that when grouped into GDP quartiles, female suicide rates clearly decrease as GDP increases. The female suicide rate for countries is 6.65 in the lowest GDP category and 4.03 in the highest GDP category."
   ]
  },
  {
   "cell_type": "markdown",
   "metadata": {},
   "source": [
    "##### Suicide Rates By Gender\n"
   ]
  },
  {
   "cell_type": "code",
   "execution_count": 474,
   "metadata": {},
   "outputs": [],
   "source": [
    "mean_suicide_df = combined.drop(['2004_gdp'], axis=1) #drop 2004_gdp column"
   ]
  },
  {
   "cell_type": "code",
   "execution_count": 475,
   "metadata": {},
   "outputs": [],
   "source": [
    "mean_suicide_df = mean_suicide_df.mean()"
   ]
  },
  {
   "cell_type": "code",
   "execution_count": 476,
   "metadata": {},
   "outputs": [],
   "source": [
    "mean_male_suicide = combined['2004_suicide_male'].mean() #calculate the mean 2004 male suicide rate\n",
    "mean_female_suicide = combined['2004_suicide_female'].mean() #calculate the mean 2004 female suicide rate"
   ]
  },
  {
   "cell_type": "code",
   "execution_count": 477,
   "metadata": {},
   "outputs": [],
   "source": [
    "#Create a histogram to visualize the 2004 mean male and female suicide rates\n",
    "locations = [1, 2]\n",
    "heights = [mean_male_suicide, mean_female_suicide]\n",
    "labels = ['Male', 'Female']\n",
    "colors = ['blue', 'magenta']"
   ]
  },
  {
   "cell_type": "code",
   "execution_count": 479,
   "metadata": {},
   "outputs": [
    {
     "data": {
      "image/png": "[encoded data removed]",
      "text/plain": [
       "<Figure size 432x288 with 1 Axes>"
      ]
     },
     "metadata": {},
     "output_type": "display_data"
    }
   ],
   "source": [
    "plt.bar(locations, heights, tick_label=labels, color=colors)\n",
    "plt.title('2004 Mean Male and Female Suicide Rates', fontsize=16)\n",
    "plt.xlabel('Gender', fontsize=14)\n",
    "plt.ylabel('Suicide Rate (per 100,000)', fontsize=14);"
   ]
  },
  {
   "cell_type": "markdown",
   "metadata": {},
   "source": [
    "The 2004 mean male suicide rate was 14.4 per 100,000 while the 2004 mean female suicide rate was 5.34 per 100,000, indicating that suicide affects males at a much higher rate than females. "
   ]
  },
  {
   "cell_type": "markdown",
   "metadata": {},
   "source": [
    "<a id='gdpgrowth'></a>\n",
    "# How does the GDP growth rate correlate with male and female suicide rates?"
   ]
  },
  {
   "cell_type": "code",
   "execution_count": 529,
   "metadata": {},
   "outputs": [],
   "source": [
    "df_gdp_growth.dropna(axis=1, how='all', inplace=True) #drop 1960 and 2011 columns because all are NaN"
   ]
  },
  {
   "cell_type": "code",
   "execution_count": 530,
   "metadata": {},
   "outputs": [],
   "source": [
    "#Male suicide- delete columns prior to 1964 because there is minimal data\n",
    "df_suicide_m_gdp_growth = df_suicide_male.drop(df_suicide_male.columns[0:14], axis=1)"
   ]
  },
  {
   "cell_type": "code",
   "execution_count": 531,
   "metadata": {},
   "outputs": [],
   "source": [
    "#Female suicide- delete columns prior to 1964 because there is minimal data\n",
    "df_suicide_f_gdp_growth = df_suicide_female.drop(df_suicide_female.columns[0:14], axis=1)"
   ]
  },
  {
   "cell_type": "code",
   "execution_count": 532,
   "metadata": {},
   "outputs": [],
   "source": [
    "#GDP Growth- delete columns after 2004\n",
    "df_gdp_growth_suicide_m = df_gdp_growth.drop(df_gdp_growth.columns[44:50], axis=1)\n",
    "df_gdp_growth_suicide_f = df_gdp_growth.drop(df_gdp_growth.columns[44:50], axis=1)"
   ]
  },
  {
   "cell_type": "code",
   "execution_count": 533,
   "metadata": {},
   "outputs": [],
   "source": [
    "#delete years up until 1981 to prevent deleting more countries when combining the datasets\n",
    "df_gdp_growth_suicide_m = df_gdp_growth_suicide_m.drop(df_gdp_growth_suicide_m.columns[0:20], axis=1)\n",
    "df_gdp_growth_suicide_f = df_gdp_growth_suicide_f.drop(df_gdp_growth_suicide_f.columns[0:20], axis=1)\n",
    "df_suicide_m_gdp_growth = df_suicide_m_gdp_growth.drop(df_suicide_m_gdp_growth.columns[0:17], axis=1)\n",
    "df_suicide_f_gdp_growth = df_suicide_f_gdp_growth.drop(df_suicide_f_gdp_growth.columns[0:17], axis=1)"
   ]
  },
  {
   "cell_type": "code",
   "execution_count": 534,
   "metadata": {},
   "outputs": [],
   "source": [
    "#Drop rows with any NaNs\n",
    "df_suicide_m_gdp_growth = df_suicide_m_gdp_growth.dropna(axis=0, how='any')\n",
    "df_suicide_f_gdp_growth = df_suicide_f_gdp_growth.dropna(axis=0, how='any')\n"
   ]
  },
  {
   "cell_type": "code",
   "execution_count": 535,
   "metadata": {},
   "outputs": [],
   "source": [
    "#Equalize indices of dataframes to be compared (male)\n",
    "df_suicide_m_gdp_growth= df_suicide_m_gdp_growth[df_suicide_m_gdp_growth.index.isin(df_gdp_growth_suicide_m.index)]\n"
   ]
  },
  {
   "cell_type": "code",
   "execution_count": 536,
   "metadata": {},
   "outputs": [],
   "source": [
    "df_gdp_growth_suicide_m = df_gdp_growth_suicide_m[df_gdp_growth_suicide_m.index.isin(df_suicide_m_gdp_growth.index)]"
   ]
  },
  {
   "cell_type": "code",
   "execution_count": 537,
   "metadata": {},
   "outputs": [
    {
     "data": {
      "text/plain": [
       "array([ True,  True,  True,  True,  True,  True,  True,  True,  True,\n",
       "        True,  True,  True,  True,  True,  True,  True,  True,  True,\n",
       "        True,  True,  True,  True,  True,  True,  True,  True,  True,\n",
       "        True,  True])"
      ]
     },
     "execution_count": 537,
     "metadata": {},
     "output_type": "execute_result"
    }
   ],
   "source": [
    "df_suicide_m_gdp_growth.index == df_gdp_growth_suicide_m.index #confirm indices match"
   ]
  },
  {
   "cell_type": "code",
   "execution_count": 538,
   "metadata": {},
   "outputs": [],
   "source": [
    "#Equalize indices of dataframes to be compared (female)\n",
    "df_suicide_f_gdp_growth = df_suicide_f_gdp_growth[df_suicide_f_gdp_growth.index.isin(df_gdp_growth_suicide_f.index)]"
   ]
  },
  {
   "cell_type": "code",
   "execution_count": 539,
   "metadata": {},
   "outputs": [],
   "source": [
    "df_gdp_growth_suicide_f = df_gdp_growth_suicide_f[df_gdp_growth_suicide_f.index.isin(df_suicide_f_gdp_growth.index)]"
   ]
  },
  {
   "cell_type": "code",
   "execution_count": 540,
   "metadata": {},
   "outputs": [
    {
     "data": {
      "text/plain": [
       "array([ True,  True,  True,  True,  True,  True,  True,  True,  True,\n",
       "        True,  True,  True,  True,  True,  True,  True,  True,  True,\n",
       "        True,  True,  True,  True,  True,  True,  True,  True])"
      ]
     },
     "execution_count": 540,
     "metadata": {},
     "output_type": "execute_result"
    }
   ],
   "source": [
    "df_suicide_f_gdp_growth.index == df_gdp_growth_suicide_f.index #confirm indices match"
   ]
  },
  {
   "cell_type": "markdown",
   "metadata": {},
   "source": [
    "Female suicide rates vs. GDP growth rates visualized"
   ]
  },
  {
   "cell_type": "code",
   "execution_count": 542,
   "metadata": {},
   "outputs": [
    {
     "data": {
      "image/png": "[encoded data removed]",
      "text/plain": [
       "<Figure size 432x288 with 1 Axes>"
      ]
     },
     "metadata": {},
     "output_type": "display_data"
    }
   ],
   "source": [
    "#Visualize female suicide rates vs. GDP growth rates for all countries and years\n",
    "female_plot = plt.plot(df_gdp_growth_suicide_f, df_suicide_f_gdp_growth, 'mo', markersize=3);\n",
    "plt.title('Female Suicide Rate vs. GDP Growth Rate, 1981-2004', fontsize=16)\n",
    "plt.xlabel('GDP Growth Rate', fontsize=12)\n",
    "plt.ylabel('Suicide Rate (per 100,000)', fontsize=12);"
   ]
  },
  {
   "cell_type": "code",
   "execution_count": 340,
   "metadata": {},
   "outputs": [
    {
     "data": {
      "text/plain": [
       "0.018115445946065286"
      ]
     },
     "execution_count": 340,
     "metadata": {},
     "output_type": "execute_result"
    }
   ],
   "source": [
    "#Correlation between Female Suicide Rates 1981-2004 and GDP Growth Rates 1981-2004\n",
    "df_gdp_growth_suicide_f.corrwith(df_suicide_f_gdp_growth).mean()"
   ]
  },
  {
   "cell_type": "markdown",
   "metadata": {},
   "source": [
    "With a correlation of 0.018, this indicates there is no assocation between female suicide rates and GDP growth rates."
   ]
  },
  {
   "cell_type": "code",
   "execution_count": 543,
   "metadata": {},
   "outputs": [
    {
     "data": {
      "image/png": "[encoded data removed]",
      "text/plain": [
       "<Figure size 432x288 with 1 Axes>"
      ]
     },
     "metadata": {},
     "output_type": "display_data"
    }
   ],
   "source": [
    "#Visualize male suicide rates vs. GDP growth rates for all countries and years\n",
    "male_plot = plt.plot(df_gdp_growth_suicide_m, df_suicide_m_gdp_growth, 'bo', markersize=3);\n",
    "plt.title('Male Suicide Rate vs. GDP Growth Rate, 1981-2004', fontsize=16)\n",
    "plt.xlabel('GDP Growth Rate', fontsize=12)\n",
    "plt.ylabel('Suicide Rate (per 100,000)', fontsize=12);"
   ]
  },
  {
   "cell_type": "code",
   "execution_count": 342,
   "metadata": {},
   "outputs": [
    {
     "data": {
      "text/plain": [
       "0.014914127791488827"
      ]
     },
     "execution_count": 342,
     "metadata": {},
     "output_type": "execute_result"
    }
   ],
   "source": [
    "#Correlation between Male Suicide Rates 1981-2004 and GDP Growth Rates 1981-2004\n",
    "df_gdp_growth_suicide_m.corrwith(df_suicide_m_gdp_growth).mean()"
   ]
  },
  {
   "cell_type": "markdown",
   "metadata": {},
   "source": [
    "As with the female results, there is little to no assocation between male suicide rates and GDP growth rates"
   ]
  },
  {
   "cell_type": "markdown",
   "metadata": {},
   "source": [
    "The results indicate that individual GDP growth increases or decreases per year does not, on average, have a significant correlation with suicide rates, male or female. Annual economic changes are not correlated with suicide rates. Issues with this analysis could be that the majority of the countries analyzed already are economically wealthy and therefore annual increases or decreases in GDP have less of an affect on basic needs. Another issue could be that there is a lag time between increased or decreased rates and GDP growth changes."
   ]
  },
  {
   "cell_type": "markdown",
   "metadata": {},
   "source": [
    "<a id='age'></a>\n",
    "# Does median age correlate with male and/or female suicide rates?"
   ]
  },
  {
   "cell_type": "markdown",
   "metadata": {},
   "source": [
    "Here we will be comparing median age vs both male suicide rates and female suicide rates"
   ]
  },
  {
   "cell_type": "code",
   "execution_count": 343,
   "metadata": {},
   "outputs": [],
   "source": [
    "df_median_age.index.rename('country', inplace=True) #rename index"
   ]
  },
  {
   "cell_type": "code",
   "execution_count": 344,
   "metadata": {},
   "outputs": [],
   "source": [
    "#Create new male and female suicide dataframes with columns for every 5 years to match columns in median age dataframe\n",
    "cols_of_interest = ['1950', '1955', '1960', '1965', '1970', '1975', '1980', '1985', '1990', '1995', '2000']\n",
    "df_suicide_male_med_age = df_suicide_male[cols_of_interest]\n",
    "df_suicide_female_med_age = df_suicide_female[cols_of_interest]"
   ]
  },
  {
   "cell_type": "code",
   "execution_count": null,
   "metadata": {},
   "outputs": [],
   "source": []
  },
  {
   "cell_type": "code",
   "execution_count": 345,
   "metadata": {},
   "outputs": [
    {
     "name": "stderr",
     "output_type": "stream",
     "text": [
      "/Applications/anaconda3/lib/python3.6/site-packages/ipykernel/__main__.py:2: SettingWithCopyWarning: \n",
      "A value is trying to be set on a copy of a slice from a DataFrame\n",
      "\n",
      "See the caveats in the documentation: http://pandas.pydata.org/pandas-docs/stable/indexing.html#indexing-view-versus-copy\n",
      "  from ipykernel import kernelapp as app\n",
      "/Applications/anaconda3/lib/python3.6/site-packages/ipykernel/__main__.py:3: SettingWithCopyWarning: \n",
      "A value is trying to be set on a copy of a slice from a DataFrame\n",
      "\n",
      "See the caveats in the documentation: http://pandas.pydata.org/pandas-docs/stable/indexing.html#indexing-view-versus-copy\n",
      "  app.launch_new_instance()\n"
     ]
    }
   ],
   "source": [
    "#delete 1950 column because there are only 10 countries\n",
    "df_suicide_male_med_age.drop(['1950'], axis=1, inplace=True)\n",
    "df_suicide_female_med_age.drop(['1950'], axis=1, inplace=True)"
   ]
  },
  {
   "cell_type": "code",
   "execution_count": 346,
   "metadata": {},
   "outputs": [
    {
     "name": "stderr",
     "output_type": "stream",
     "text": [
      "/Applications/anaconda3/lib/python3.6/site-packages/ipykernel/__main__.py:2: SettingWithCopyWarning: \n",
      "A value is trying to be set on a copy of a slice from a DataFrame\n",
      "\n",
      "See the caveats in the documentation: http://pandas.pydata.org/pandas-docs/stable/indexing.html#indexing-view-versus-copy\n",
      "  from ipykernel import kernelapp as app\n",
      "/Applications/anaconda3/lib/python3.6/site-packages/ipykernel/__main__.py:3: SettingWithCopyWarning: \n",
      "A value is trying to be set on a copy of a slice from a DataFrame\n",
      "\n",
      "See the caveats in the documentation: http://pandas.pydata.org/pandas-docs/stable/indexing.html#indexing-view-versus-copy\n",
      "  app.launch_new_instance()\n"
     ]
    }
   ],
   "source": [
    "#delete rows with any NaNs\n",
    "df_suicide_male_med_age.dropna(axis=0, how='any', inplace=True)\n",
    "df_suicide_female_med_age.dropna(axis=0, how='any', inplace=True)"
   ]
  },
  {
   "cell_type": "code",
   "execution_count": 347,
   "metadata": {},
   "outputs": [],
   "source": [
    "#Create median age dataframe to compare to female suicide rate with same indices\n",
    "df_med_age_suicide_f = df_median_age[df_median_age.index.isin(df_suicide_female_med_age.index)]\n"
   ]
  },
  {
   "cell_type": "code",
   "execution_count": 348,
   "metadata": {},
   "outputs": [
    {
     "data": {
      "text/plain": [
       "array([ True,  True,  True,  True,  True,  True,  True,  True,  True,\n",
       "        True,  True,  True,  True,  True,  True,  True,  True,  True,\n",
       "        True,  True])"
      ]
     },
     "execution_count": 348,
     "metadata": {},
     "output_type": "execute_result"
    }
   ],
   "source": [
    "df_med_age_suicide_f.index == df_suicide_female_med_age.index"
   ]
  },
  {
   "cell_type": "code",
   "execution_count": 349,
   "metadata": {},
   "outputs": [],
   "source": [
    "#Create median age dataframe to compare to male suicide rate with same indices\n",
    "df_med_age_suicide_m = df_median_age[df_median_age.index.isin(df_suicide_male_med_age.index)]"
   ]
  },
  {
   "cell_type": "code",
   "execution_count": 350,
   "metadata": {},
   "outputs": [
    {
     "data": {
      "text/plain": [
       "array([ True,  True,  True,  True,  True,  True,  True,  True,  True,\n",
       "        True,  True,  True,  True,  True,  True,  True,  True,  True,\n",
       "        True,  True,  True,  True])"
      ]
     },
     "execution_count": 350,
     "metadata": {},
     "output_type": "execute_result"
    }
   ],
   "source": [
    "df_med_age_suicide_m.index == df_suicide_male_med_age.index #confirm indices match"
   ]
  },
  {
   "cell_type": "code",
   "execution_count": 351,
   "metadata": {},
   "outputs": [],
   "source": [
    "#Visualize male suicide rates vs median age"
   ]
  },
  {
   "cell_type": "code",
   "execution_count": 544,
   "metadata": {},
   "outputs": [
    {
     "name": "stderr",
     "output_type": "stream",
     "text": [
      "/Applications/anaconda3/lib/python3.6/site-packages/matplotlib/cbook/deprecation.py:107: MatplotlibDeprecationWarning: cycling among columns of inputs with non-matching shapes is deprecated.\n",
      "  warnings.warn(message, mplDeprecation, stacklevel=1)\n"
     ]
    },
    {
     "data": {
      "image/png": "[encoded data removed]",
      "text/plain": [
       "<Figure size 432x288 with 1 Axes>"
      ]
     },
     "metadata": {},
     "output_type": "display_data"
    }
   ],
   "source": [
    "male_age_plot = plt.plot(df_med_age_suicide_m, df_suicide_male_med_age, 'bo', markersize=3);\n",
    "plt.title('Male Suicide Rate vs. Median Age, 1955-2000', fontsize=16)\n",
    "plt.xlabel('Median Age', fontsize=12)\n",
    "plt.ylabel('Suicide Rate (per 100,000)', fontsize=12);"
   ]
  },
  {
   "cell_type": "code",
   "execution_count": 353,
   "metadata": {},
   "outputs": [
    {
     "data": {
      "text/plain": [
       "0.4086736287601823"
      ]
     },
     "execution_count": 353,
     "metadata": {},
     "output_type": "execute_result"
    }
   ],
   "source": [
    "#Correlation of male suicide rates vs median age\n",
    "df_med_age_suicide_m.corrwith(df_suicide_male_med_age).mean()"
   ]
  },
  {
   "cell_type": "markdown",
   "metadata": {},
   "source": [
    "With a correlation coefficient of .408, it appears there is a weak correlation between median age and suicide rates."
   ]
  },
  {
   "cell_type": "code",
   "execution_count": 354,
   "metadata": {},
   "outputs": [],
   "source": [
    "#Visualize female suicide rates vs median age"
   ]
  },
  {
   "cell_type": "code",
   "execution_count": 423,
   "metadata": {},
   "outputs": [
    {
     "name": "stderr",
     "output_type": "stream",
     "text": [
      "/Applications/anaconda3/lib/python3.6/site-packages/matplotlib/cbook/deprecation.py:107: MatplotlibDeprecationWarning: cycling among columns of inputs with non-matching shapes is deprecated.\n",
      "  warnings.warn(message, mplDeprecation, stacklevel=1)\n"
     ]
    },
    {
     "data": {
      "image/png": "[encoded data removed]",
      "text/plain": [
       "<Figure size 432x288 with 1 Axes>"
      ]
     },
     "metadata": {},
     "output_type": "display_data"
    }
   ],
   "source": [
    "female_age_plot = plt.plot(df_med_age_suicide_f, df_suicide_female_med_age, 'mo', markersize=3);\n",
    "plt.title('Female Suicide Rate vs. Median Age, 1955-2000', fontsize=16)\n",
    "plt.xlabel('Median Age', fontsize=12)\n",
    "plt.ylabel('Suicide Rate (per 100,000)', fontsize=12);"
   ]
  },
  {
   "cell_type": "code",
   "execution_count": 356,
   "metadata": {},
   "outputs": [
    {
     "data": {
      "text/plain": [
       "0.5119491660653578"
      ]
     },
     "execution_count": 356,
     "metadata": {},
     "output_type": "execute_result"
    }
   ],
   "source": [
    "#Correlation of female suicide rates vs median age\n",
    "df_med_age_suicide_f.corrwith(df_suicide_female_med_age).mean()"
   ]
  },
  {
   "cell_type": "markdown",
   "metadata": {},
   "source": [
    "There is a correlation coefficient of 0.512 between median age and female suicide rates. This indicates a moderate correlation between median age and female suicide rates."
   ]
  },
  {
   "cell_type": "markdown",
   "metadata": {},
   "source": [
    "<a id='conclusions'></a>\n",
    "## Conclusions\n",
    "\n",
    "> **Suicide rates and GDP**: There appears to be no correlation between GDP and male suicide rates. However, it does appear that there is a slight negative correlation between GDP and female suicide rates. It is especially clear when grouped into quartiles; the highest GDP quartile has a nearly 40% lower rate of female suicide than the lowest GDP quartile.\n",
    "\n",
    "> **Suicide rates and GDP growth rates**: The data shows no correlation between GDP growth rates and either male or female suicide rates. It was hypothesized that a perceived change in lifestyle, positive or negative, could be more strongly associated with suicide rates than actual GDP, but this does not appear to be the case. It is possible that there is a time lag and that suicide rates would not be affected immediately.\n",
    "\n",
    "> **Suicide rates and age**: There is a weak correlation between male suicide rates and median age and a moderate correlation between female suicide rates and median age. There could be several explanations. The ratio of children (who commit suicide at far lower rates) to adults is likely lower as the median age increases. The rate of suicide amongst middle age and older people could also be increasing at a faster rate, which would cause the overall suicide rate to increase as age increases."
   ]
  },
  {
   "cell_type": "markdown",
   "metadata": {},
   "source": []
  },
  {
   "cell_type": "code",
   "execution_count": 357,
   "metadata": {},
   "outputs": [
    {
     "data": {
      "text/plain": [
       "0"
      ]
     },
     "execution_count": 357,
     "metadata": {},
     "output_type": "execute_result"
    }
   ],
   "source": [
    "from subprocess import call\n",
    "call(['python', '-m', 'nbconvert', 'Investigate_a_Dataset.ipynb'])"
   ]
  },
  {
   "cell_type": "code",
   "execution_count": null,
   "metadata": {},
   "outputs": [],
   "source": []
  }
 ],
 "metadata": {
  "kernelspec": {
   "display_name": "Python [conda env:anaconda3]",
   "language": "python",
   "name": "conda-env-anaconda3-py"
  },
  "language_info": {
   "codemirror_mode": {
    "name": "ipython",
    "version": 3
   },
   "file_extension": ".py",
   "mimetype": "text/x-python",
   "name": "python",
   "nbconvert_exporter": "python",
   "pygments_lexer": "ipython3",
   "version": "3.6.3"
  }
 },
 "nbformat": 4,
 "nbformat_minor": 2
}
